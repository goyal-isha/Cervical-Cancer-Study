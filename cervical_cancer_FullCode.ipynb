{
 "cells": [
  {
   "cell_type": "code",
   "execution_count": 369,
   "metadata": {},
   "outputs": [],
   "source": [
    "import findspark\n",
    "findspark.init()\n",
    "import pyspark\n",
    "from pyspark.sql import SparkSession\n",
    "spark = SparkSession.builder.getOrCreate()\n",
    "%matplotlib inline\n",
    "import math\n",
    "import seaborn as sns\n",
    "import pandas as pd\n",
    "import matplotlib.pyplot as plt\n",
    "import numpy as np\n",
    "from collections import Counter\n",
    "from sklearn.preprocessing import StandardScaler\n",
    "import imblearn as il\n",
    "from imblearn.over_sampling import SMOTE\n",
    "from imblearn.combine import SMOTEENN\n",
    "from sklearn.model_selection import train_test_split\n",
    "from sklearn.linear_model import LogisticRegression\n",
    "from sklearn.ensemble import RandomForestClassifier\n",
    "from sklearn.metrics import recall_score\n",
    "from sklearn.metrics import average_precision_score\n",
    "from sklearn.metrics import precision_recall_curve"
   ]
  },
  {
   "cell_type": "markdown",
   "metadata": {},
   "source": [
    "Loading the risk factor cervical csv to dataframe\n",
    "\n",
    "Note: Change path based on where cervical_cancer is saved in local computer"
   ]
  },
  {
   "cell_type": "code",
   "execution_count": 322,
   "metadata": {},
   "outputs": [],
   "source": [
    "cervical_df=pd.read_csv(\"/home/centisha/data/Cervical_Cancer/risk_factors_cervical_cancer.csv\")"
   ]
  },
  {
   "cell_type": "markdown",
   "metadata": {},
   "source": [
    "Displaying mean ,max and other stat funtion for preliminary analysis."
   ]
  },
  {
   "cell_type": "code",
   "execution_count": 323,
   "metadata": {},
   "outputs": [
    {
     "data": {
      "text/html": [
       "<div>\n",
       "<style scoped>\n",
       "    .dataframe tbody tr th:only-of-type {\n",
       "        vertical-align: middle;\n",
       "    }\n",
       "\n",
       "    .dataframe tbody tr th {\n",
       "        vertical-align: top;\n",
       "    }\n",
       "\n",
       "    .dataframe thead th {\n",
       "        text-align: right;\n",
       "    }\n",
       "</style>\n",
       "<table border=\"1\" class=\"dataframe\">\n",
       "  <thead>\n",
       "    <tr style=\"text-align: right;\">\n",
       "      <th></th>\n",
       "      <th>Age</th>\n",
       "      <th>Number of sexual partners</th>\n",
       "      <th>First sexual intercourse</th>\n",
       "      <th>Num of pregnancies</th>\n",
       "      <th>Smokes</th>\n",
       "      <th>Smokes (years)</th>\n",
       "      <th>Smokes (packs/year)</th>\n",
       "      <th>Hormonal Contraceptives</th>\n",
       "      <th>Hormonal Contraceptives (years)</th>\n",
       "      <th>IUD</th>\n",
       "      <th>...</th>\n",
       "      <th>STDs: Time since first diagnosis</th>\n",
       "      <th>STDs: Time since last diagnosis</th>\n",
       "      <th>Dx:Cancer</th>\n",
       "      <th>Dx:CIN</th>\n",
       "      <th>Dx:HPV</th>\n",
       "      <th>Dx</th>\n",
       "      <th>Hinselmann</th>\n",
       "      <th>Schiller</th>\n",
       "      <th>Citology</th>\n",
       "      <th>Biopsy</th>\n",
       "    </tr>\n",
       "  </thead>\n",
       "  <tbody>\n",
       "    <tr>\n",
       "      <th>count</th>\n",
       "      <td>858.000000</td>\n",
       "      <td>858</td>\n",
       "      <td>858</td>\n",
       "      <td>858</td>\n",
       "      <td>858</td>\n",
       "      <td>858</td>\n",
       "      <td>858</td>\n",
       "      <td>858</td>\n",
       "      <td>858</td>\n",
       "      <td>858</td>\n",
       "      <td>...</td>\n",
       "      <td>858</td>\n",
       "      <td>858</td>\n",
       "      <td>858.000000</td>\n",
       "      <td>858.000000</td>\n",
       "      <td>858.000000</td>\n",
       "      <td>858.000000</td>\n",
       "      <td>858.000000</td>\n",
       "      <td>858.000000</td>\n",
       "      <td>858.000000</td>\n",
       "      <td>858.000000</td>\n",
       "    </tr>\n",
       "    <tr>\n",
       "      <th>unique</th>\n",
       "      <td>NaN</td>\n",
       "      <td>13</td>\n",
       "      <td>22</td>\n",
       "      <td>12</td>\n",
       "      <td>3</td>\n",
       "      <td>31</td>\n",
       "      <td>63</td>\n",
       "      <td>3</td>\n",
       "      <td>41</td>\n",
       "      <td>3</td>\n",
       "      <td>...</td>\n",
       "      <td>19</td>\n",
       "      <td>19</td>\n",
       "      <td>NaN</td>\n",
       "      <td>NaN</td>\n",
       "      <td>NaN</td>\n",
       "      <td>NaN</td>\n",
       "      <td>NaN</td>\n",
       "      <td>NaN</td>\n",
       "      <td>NaN</td>\n",
       "      <td>NaN</td>\n",
       "    </tr>\n",
       "    <tr>\n",
       "      <th>top</th>\n",
       "      <td>NaN</td>\n",
       "      <td>2.0</td>\n",
       "      <td>15.0</td>\n",
       "      <td>1.0</td>\n",
       "      <td>0.0</td>\n",
       "      <td>0.0</td>\n",
       "      <td>0.0</td>\n",
       "      <td>1.0</td>\n",
       "      <td>0.0</td>\n",
       "      <td>0.0</td>\n",
       "      <td>...</td>\n",
       "      <td>?</td>\n",
       "      <td>?</td>\n",
       "      <td>NaN</td>\n",
       "      <td>NaN</td>\n",
       "      <td>NaN</td>\n",
       "      <td>NaN</td>\n",
       "      <td>NaN</td>\n",
       "      <td>NaN</td>\n",
       "      <td>NaN</td>\n",
       "      <td>NaN</td>\n",
       "    </tr>\n",
       "    <tr>\n",
       "      <th>freq</th>\n",
       "      <td>NaN</td>\n",
       "      <td>272</td>\n",
       "      <td>163</td>\n",
       "      <td>270</td>\n",
       "      <td>722</td>\n",
       "      <td>722</td>\n",
       "      <td>722</td>\n",
       "      <td>481</td>\n",
       "      <td>269</td>\n",
       "      <td>658</td>\n",
       "      <td>...</td>\n",
       "      <td>787</td>\n",
       "      <td>787</td>\n",
       "      <td>NaN</td>\n",
       "      <td>NaN</td>\n",
       "      <td>NaN</td>\n",
       "      <td>NaN</td>\n",
       "      <td>NaN</td>\n",
       "      <td>NaN</td>\n",
       "      <td>NaN</td>\n",
       "      <td>NaN</td>\n",
       "    </tr>\n",
       "    <tr>\n",
       "      <th>mean</th>\n",
       "      <td>26.820513</td>\n",
       "      <td>NaN</td>\n",
       "      <td>NaN</td>\n",
       "      <td>NaN</td>\n",
       "      <td>NaN</td>\n",
       "      <td>NaN</td>\n",
       "      <td>NaN</td>\n",
       "      <td>NaN</td>\n",
       "      <td>NaN</td>\n",
       "      <td>NaN</td>\n",
       "      <td>...</td>\n",
       "      <td>NaN</td>\n",
       "      <td>NaN</td>\n",
       "      <td>0.020979</td>\n",
       "      <td>0.010490</td>\n",
       "      <td>0.020979</td>\n",
       "      <td>0.027972</td>\n",
       "      <td>0.040793</td>\n",
       "      <td>0.086247</td>\n",
       "      <td>0.051282</td>\n",
       "      <td>0.064103</td>\n",
       "    </tr>\n",
       "    <tr>\n",
       "      <th>std</th>\n",
       "      <td>8.497948</td>\n",
       "      <td>NaN</td>\n",
       "      <td>NaN</td>\n",
       "      <td>NaN</td>\n",
       "      <td>NaN</td>\n",
       "      <td>NaN</td>\n",
       "      <td>NaN</td>\n",
       "      <td>NaN</td>\n",
       "      <td>NaN</td>\n",
       "      <td>NaN</td>\n",
       "      <td>...</td>\n",
       "      <td>NaN</td>\n",
       "      <td>NaN</td>\n",
       "      <td>0.143398</td>\n",
       "      <td>0.101939</td>\n",
       "      <td>0.143398</td>\n",
       "      <td>0.164989</td>\n",
       "      <td>0.197925</td>\n",
       "      <td>0.280892</td>\n",
       "      <td>0.220701</td>\n",
       "      <td>0.245078</td>\n",
       "    </tr>\n",
       "    <tr>\n",
       "      <th>min</th>\n",
       "      <td>13.000000</td>\n",
       "      <td>NaN</td>\n",
       "      <td>NaN</td>\n",
       "      <td>NaN</td>\n",
       "      <td>NaN</td>\n",
       "      <td>NaN</td>\n",
       "      <td>NaN</td>\n",
       "      <td>NaN</td>\n",
       "      <td>NaN</td>\n",
       "      <td>NaN</td>\n",
       "      <td>...</td>\n",
       "      <td>NaN</td>\n",
       "      <td>NaN</td>\n",
       "      <td>0.000000</td>\n",
       "      <td>0.000000</td>\n",
       "      <td>0.000000</td>\n",
       "      <td>0.000000</td>\n",
       "      <td>0.000000</td>\n",
       "      <td>0.000000</td>\n",
       "      <td>0.000000</td>\n",
       "      <td>0.000000</td>\n",
       "    </tr>\n",
       "    <tr>\n",
       "      <th>25%</th>\n",
       "      <td>20.000000</td>\n",
       "      <td>NaN</td>\n",
       "      <td>NaN</td>\n",
       "      <td>NaN</td>\n",
       "      <td>NaN</td>\n",
       "      <td>NaN</td>\n",
       "      <td>NaN</td>\n",
       "      <td>NaN</td>\n",
       "      <td>NaN</td>\n",
       "      <td>NaN</td>\n",
       "      <td>...</td>\n",
       "      <td>NaN</td>\n",
       "      <td>NaN</td>\n",
       "      <td>0.000000</td>\n",
       "      <td>0.000000</td>\n",
       "      <td>0.000000</td>\n",
       "      <td>0.000000</td>\n",
       "      <td>0.000000</td>\n",
       "      <td>0.000000</td>\n",
       "      <td>0.000000</td>\n",
       "      <td>0.000000</td>\n",
       "    </tr>\n",
       "    <tr>\n",
       "      <th>50%</th>\n",
       "      <td>25.000000</td>\n",
       "      <td>NaN</td>\n",
       "      <td>NaN</td>\n",
       "      <td>NaN</td>\n",
       "      <td>NaN</td>\n",
       "      <td>NaN</td>\n",
       "      <td>NaN</td>\n",
       "      <td>NaN</td>\n",
       "      <td>NaN</td>\n",
       "      <td>NaN</td>\n",
       "      <td>...</td>\n",
       "      <td>NaN</td>\n",
       "      <td>NaN</td>\n",
       "      <td>0.000000</td>\n",
       "      <td>0.000000</td>\n",
       "      <td>0.000000</td>\n",
       "      <td>0.000000</td>\n",
       "      <td>0.000000</td>\n",
       "      <td>0.000000</td>\n",
       "      <td>0.000000</td>\n",
       "      <td>0.000000</td>\n",
       "    </tr>\n",
       "    <tr>\n",
       "      <th>75%</th>\n",
       "      <td>32.000000</td>\n",
       "      <td>NaN</td>\n",
       "      <td>NaN</td>\n",
       "      <td>NaN</td>\n",
       "      <td>NaN</td>\n",
       "      <td>NaN</td>\n",
       "      <td>NaN</td>\n",
       "      <td>NaN</td>\n",
       "      <td>NaN</td>\n",
       "      <td>NaN</td>\n",
       "      <td>...</td>\n",
       "      <td>NaN</td>\n",
       "      <td>NaN</td>\n",
       "      <td>0.000000</td>\n",
       "      <td>0.000000</td>\n",
       "      <td>0.000000</td>\n",
       "      <td>0.000000</td>\n",
       "      <td>0.000000</td>\n",
       "      <td>0.000000</td>\n",
       "      <td>0.000000</td>\n",
       "      <td>0.000000</td>\n",
       "    </tr>\n",
       "    <tr>\n",
       "      <th>max</th>\n",
       "      <td>84.000000</td>\n",
       "      <td>NaN</td>\n",
       "      <td>NaN</td>\n",
       "      <td>NaN</td>\n",
       "      <td>NaN</td>\n",
       "      <td>NaN</td>\n",
       "      <td>NaN</td>\n",
       "      <td>NaN</td>\n",
       "      <td>NaN</td>\n",
       "      <td>NaN</td>\n",
       "      <td>...</td>\n",
       "      <td>NaN</td>\n",
       "      <td>NaN</td>\n",
       "      <td>1.000000</td>\n",
       "      <td>1.000000</td>\n",
       "      <td>1.000000</td>\n",
       "      <td>1.000000</td>\n",
       "      <td>1.000000</td>\n",
       "      <td>1.000000</td>\n",
       "      <td>1.000000</td>\n",
       "      <td>1.000000</td>\n",
       "    </tr>\n",
       "  </tbody>\n",
       "</table>\n",
       "<p>11 rows × 36 columns</p>\n",
       "</div>"
      ],
      "text/plain": [
       "               Age Number of sexual partners First sexual intercourse  \\\n",
       "count   858.000000                       858                      858   \n",
       "unique         NaN                        13                       22   \n",
       "top            NaN                       2.0                     15.0   \n",
       "freq           NaN                       272                      163   \n",
       "mean     26.820513                       NaN                      NaN   \n",
       "std       8.497948                       NaN                      NaN   \n",
       "min      13.000000                       NaN                      NaN   \n",
       "25%      20.000000                       NaN                      NaN   \n",
       "50%      25.000000                       NaN                      NaN   \n",
       "75%      32.000000                       NaN                      NaN   \n",
       "max      84.000000                       NaN                      NaN   \n",
       "\n",
       "       Num of pregnancies Smokes Smokes (years) Smokes (packs/year)  \\\n",
       "count                 858    858            858                 858   \n",
       "unique                 12      3             31                  63   \n",
       "top                   1.0    0.0            0.0                 0.0   \n",
       "freq                  270    722            722                 722   \n",
       "mean                  NaN    NaN            NaN                 NaN   \n",
       "std                   NaN    NaN            NaN                 NaN   \n",
       "min                   NaN    NaN            NaN                 NaN   \n",
       "25%                   NaN    NaN            NaN                 NaN   \n",
       "50%                   NaN    NaN            NaN                 NaN   \n",
       "75%                   NaN    NaN            NaN                 NaN   \n",
       "max                   NaN    NaN            NaN                 NaN   \n",
       "\n",
       "       Hormonal Contraceptives Hormonal Contraceptives (years)  IUD  \\\n",
       "count                      858                             858  858   \n",
       "unique                       3                              41    3   \n",
       "top                        1.0                             0.0  0.0   \n",
       "freq                       481                             269  658   \n",
       "mean                       NaN                             NaN  NaN   \n",
       "std                        NaN                             NaN  NaN   \n",
       "min                        NaN                             NaN  NaN   \n",
       "25%                        NaN                             NaN  NaN   \n",
       "50%                        NaN                             NaN  NaN   \n",
       "75%                        NaN                             NaN  NaN   \n",
       "max                        NaN                             NaN  NaN   \n",
       "\n",
       "           ...     STDs: Time since first diagnosis  \\\n",
       "count      ...                                  858   \n",
       "unique     ...                                   19   \n",
       "top        ...                                    ?   \n",
       "freq       ...                                  787   \n",
       "mean       ...                                  NaN   \n",
       "std        ...                                  NaN   \n",
       "min        ...                                  NaN   \n",
       "25%        ...                                  NaN   \n",
       "50%        ...                                  NaN   \n",
       "75%        ...                                  NaN   \n",
       "max        ...                                  NaN   \n",
       "\n",
       "       STDs: Time since last diagnosis   Dx:Cancer      Dx:CIN      Dx:HPV  \\\n",
       "count                              858  858.000000  858.000000  858.000000   \n",
       "unique                              19         NaN         NaN         NaN   \n",
       "top                                  ?         NaN         NaN         NaN   \n",
       "freq                               787         NaN         NaN         NaN   \n",
       "mean                               NaN    0.020979    0.010490    0.020979   \n",
       "std                                NaN    0.143398    0.101939    0.143398   \n",
       "min                                NaN    0.000000    0.000000    0.000000   \n",
       "25%                                NaN    0.000000    0.000000    0.000000   \n",
       "50%                                NaN    0.000000    0.000000    0.000000   \n",
       "75%                                NaN    0.000000    0.000000    0.000000   \n",
       "max                                NaN    1.000000    1.000000    1.000000   \n",
       "\n",
       "                Dx  Hinselmann    Schiller    Citology      Biopsy  \n",
       "count   858.000000  858.000000  858.000000  858.000000  858.000000  \n",
       "unique         NaN         NaN         NaN         NaN         NaN  \n",
       "top            NaN         NaN         NaN         NaN         NaN  \n",
       "freq           NaN         NaN         NaN         NaN         NaN  \n",
       "mean      0.027972    0.040793    0.086247    0.051282    0.064103  \n",
       "std       0.164989    0.197925    0.280892    0.220701    0.245078  \n",
       "min       0.000000    0.000000    0.000000    0.000000    0.000000  \n",
       "25%       0.000000    0.000000    0.000000    0.000000    0.000000  \n",
       "50%       0.000000    0.000000    0.000000    0.000000    0.000000  \n",
       "75%       0.000000    0.000000    0.000000    0.000000    0.000000  \n",
       "max       1.000000    1.000000    1.000000    1.000000    1.000000  \n",
       "\n",
       "[11 rows x 36 columns]"
      ]
     },
     "execution_count": 323,
     "metadata": {},
     "output_type": "execute_result"
    }
   ],
   "source": [
    "cervical_df.describe(include='all')"
   ]
  },
  {
   "cell_type": "markdown",
   "metadata": {},
   "source": [
    "Check if dataset is a balanced set.That means if count of 1's and 0's are close."
   ]
  },
  {
   "cell_type": "code",
   "execution_count": 324,
   "metadata": {},
   "outputs": [
    {
     "data": {
      "text/html": [
       "<div>\n",
       "<style scoped>\n",
       "    .dataframe tbody tr th:only-of-type {\n",
       "        vertical-align: middle;\n",
       "    }\n",
       "\n",
       "    .dataframe tbody tr th {\n",
       "        vertical-align: top;\n",
       "    }\n",
       "\n",
       "    .dataframe thead th {\n",
       "        text-align: right;\n",
       "    }\n",
       "</style>\n",
       "<table border=\"1\" class=\"dataframe\">\n",
       "  <thead>\n",
       "    <tr style=\"text-align: right;\">\n",
       "      <th></th>\n",
       "      <th>Age</th>\n",
       "      <th>Number of sexual partners</th>\n",
       "      <th>First sexual intercourse</th>\n",
       "      <th>Num of pregnancies</th>\n",
       "      <th>Smokes</th>\n",
       "      <th>Smokes (years)</th>\n",
       "      <th>Smokes (packs/year)</th>\n",
       "      <th>Hormonal Contraceptives</th>\n",
       "      <th>Hormonal Contraceptives (years)</th>\n",
       "      <th>IUD</th>\n",
       "      <th>...</th>\n",
       "      <th>STDs: Number of diagnosis</th>\n",
       "      <th>STDs: Time since first diagnosis</th>\n",
       "      <th>STDs: Time since last diagnosis</th>\n",
       "      <th>Dx:Cancer</th>\n",
       "      <th>Dx:CIN</th>\n",
       "      <th>Dx:HPV</th>\n",
       "      <th>Dx</th>\n",
       "      <th>Schiller</th>\n",
       "      <th>Citology</th>\n",
       "      <th>Biopsy</th>\n",
       "    </tr>\n",
       "    <tr>\n",
       "      <th>Hinselmann</th>\n",
       "      <th></th>\n",
       "      <th></th>\n",
       "      <th></th>\n",
       "      <th></th>\n",
       "      <th></th>\n",
       "      <th></th>\n",
       "      <th></th>\n",
       "      <th></th>\n",
       "      <th></th>\n",
       "      <th></th>\n",
       "      <th></th>\n",
       "      <th></th>\n",
       "      <th></th>\n",
       "      <th></th>\n",
       "      <th></th>\n",
       "      <th></th>\n",
       "      <th></th>\n",
       "      <th></th>\n",
       "      <th></th>\n",
       "      <th></th>\n",
       "      <th></th>\n",
       "    </tr>\n",
       "  </thead>\n",
       "  <tbody>\n",
       "    <tr>\n",
       "      <th>0</th>\n",
       "      <td>823</td>\n",
       "      <td>823</td>\n",
       "      <td>823</td>\n",
       "      <td>823</td>\n",
       "      <td>823</td>\n",
       "      <td>823</td>\n",
       "      <td>823</td>\n",
       "      <td>823</td>\n",
       "      <td>823</td>\n",
       "      <td>823</td>\n",
       "      <td>...</td>\n",
       "      <td>823</td>\n",
       "      <td>823</td>\n",
       "      <td>823</td>\n",
       "      <td>823</td>\n",
       "      <td>823</td>\n",
       "      <td>823</td>\n",
       "      <td>823</td>\n",
       "      <td>823</td>\n",
       "      <td>823</td>\n",
       "      <td>823</td>\n",
       "    </tr>\n",
       "    <tr>\n",
       "      <th>1</th>\n",
       "      <td>35</td>\n",
       "      <td>35</td>\n",
       "      <td>35</td>\n",
       "      <td>35</td>\n",
       "      <td>35</td>\n",
       "      <td>35</td>\n",
       "      <td>35</td>\n",
       "      <td>35</td>\n",
       "      <td>35</td>\n",
       "      <td>35</td>\n",
       "      <td>...</td>\n",
       "      <td>35</td>\n",
       "      <td>35</td>\n",
       "      <td>35</td>\n",
       "      <td>35</td>\n",
       "      <td>35</td>\n",
       "      <td>35</td>\n",
       "      <td>35</td>\n",
       "      <td>35</td>\n",
       "      <td>35</td>\n",
       "      <td>35</td>\n",
       "    </tr>\n",
       "  </tbody>\n",
       "</table>\n",
       "<p>2 rows × 35 columns</p>\n",
       "</div>"
      ],
      "text/plain": [
       "            Age  Number of sexual partners  First sexual intercourse  \\\n",
       "Hinselmann                                                             \n",
       "0           823                        823                       823   \n",
       "1            35                         35                        35   \n",
       "\n",
       "            Num of pregnancies  Smokes  Smokes (years)  Smokes (packs/year)  \\\n",
       "Hinselmann                                                                    \n",
       "0                          823     823             823                  823   \n",
       "1                           35      35              35                   35   \n",
       "\n",
       "            Hormonal Contraceptives  Hormonal Contraceptives (years)  IUD  \\\n",
       "Hinselmann                                                                  \n",
       "0                               823                              823  823   \n",
       "1                                35                               35   35   \n",
       "\n",
       "             ...    STDs: Number of diagnosis  \\\n",
       "Hinselmann   ...                                \n",
       "0            ...                          823   \n",
       "1            ...                           35   \n",
       "\n",
       "            STDs: Time since first diagnosis  STDs: Time since last diagnosis  \\\n",
       "Hinselmann                                                                      \n",
       "0                                        823                              823   \n",
       "1                                         35                               35   \n",
       "\n",
       "            Dx:Cancer  Dx:CIN  Dx:HPV   Dx  Schiller  Citology  Biopsy  \n",
       "Hinselmann                                                              \n",
       "0                 823     823     823  823       823       823     823  \n",
       "1                  35      35      35   35        35        35      35  \n",
       "\n",
       "[2 rows x 35 columns]"
      ]
     },
     "execution_count": 324,
     "metadata": {},
     "output_type": "execute_result"
    }
   ],
   "source": [
    "cervical_df.groupby('Hinselmann').count()"
   ]
  },
  {
   "cell_type": "markdown",
   "metadata": {},
   "source": [
    "Checking columns/row with ? as value and then replacing it with null value."
   ]
  },
  {
   "cell_type": "code",
   "execution_count": 325,
   "metadata": {},
   "outputs": [
    {
     "data": {
      "text/plain": [
       "Age                                     0\n",
       "Number of sexual partners              26\n",
       "First sexual intercourse                7\n",
       "Num of pregnancies                     56\n",
       "Smokes                                 13\n",
       "Smokes (years)                         13\n",
       "Smokes (packs/year)                    13\n",
       "Hormonal Contraceptives               108\n",
       "Hormonal Contraceptives (years)       108\n",
       "IUD                                   117\n",
       "IUD (years)                           117\n",
       "STDs                                  105\n",
       "STDs (number)                         105\n",
       "STDs:condylomatosis                   105\n",
       "STDs:cervical condylomatosis          105\n",
       "STDs:vaginal condylomatosis           105\n",
       "STDs:vulvo-perineal condylomatosis    105\n",
       "STDs:syphilis                         105\n",
       "STDs:pelvic inflammatory disease      105\n",
       "STDs:genital herpes                   105\n",
       "STDs:molluscum contagiosum            105\n",
       "STDs:AIDS                             105\n",
       "STDs:HIV                              105\n",
       "STDs:Hepatitis B                      105\n",
       "STDs:HPV                              105\n",
       "STDs: Number of diagnosis               0\n",
       "STDs: Time since first diagnosis      787\n",
       "STDs: Time since last diagnosis       787\n",
       "Dx:Cancer                               0\n",
       "Dx:CIN                                  0\n",
       "Dx:HPV                                  0\n",
       "Dx                                      0\n",
       "Hinselmann                              0\n",
       "Schiller                                0\n",
       "Citology                                0\n",
       "Biopsy                                  0\n",
       "dtype: int64"
      ]
     },
     "execution_count": 325,
     "metadata": {},
     "output_type": "execute_result"
    }
   ],
   "source": [
    "cervical_df.isin(['?']).sum(axis=0)"
   ]
  },
  {
   "cell_type": "code",
   "execution_count": 326,
   "metadata": {},
   "outputs": [],
   "source": [
    "cervical_df.replace('?', np.nan,inplace=True)"
   ]
  },
  {
   "cell_type": "code",
   "execution_count": 327,
   "metadata": {},
   "outputs": [
    {
     "data": {
      "text/plain": [
       "Age                                   0\n",
       "Number of sexual partners             0\n",
       "First sexual intercourse              0\n",
       "Num of pregnancies                    0\n",
       "Smokes                                0\n",
       "Smokes (years)                        0\n",
       "Smokes (packs/year)                   0\n",
       "Hormonal Contraceptives               0\n",
       "Hormonal Contraceptives (years)       0\n",
       "IUD                                   0\n",
       "IUD (years)                           0\n",
       "STDs                                  0\n",
       "STDs (number)                         0\n",
       "STDs:condylomatosis                   0\n",
       "STDs:cervical condylomatosis          0\n",
       "STDs:vaginal condylomatosis           0\n",
       "STDs:vulvo-perineal condylomatosis    0\n",
       "STDs:syphilis                         0\n",
       "STDs:pelvic inflammatory disease      0\n",
       "STDs:genital herpes                   0\n",
       "STDs:molluscum contagiosum            0\n",
       "STDs:AIDS                             0\n",
       "STDs:HIV                              0\n",
       "STDs:Hepatitis B                      0\n",
       "STDs:HPV                              0\n",
       "STDs: Number of diagnosis             0\n",
       "STDs: Time since first diagnosis      0\n",
       "STDs: Time since last diagnosis       0\n",
       "Dx:Cancer                             0\n",
       "Dx:CIN                                0\n",
       "Dx:HPV                                0\n",
       "Dx                                    0\n",
       "Hinselmann                            0\n",
       "Schiller                              0\n",
       "Citology                              0\n",
       "Biopsy                                0\n",
       "dtype: int64"
      ]
     },
     "execution_count": 327,
     "metadata": {},
     "output_type": "execute_result"
    }
   ],
   "source": [
    "cervical_df.isin(['?']).sum(axis=0)"
   ]
  },
  {
   "cell_type": "markdown",
   "metadata": {},
   "source": [
    "Replacing Null by zeros and one based on Forward fill and backward fill."
   ]
  },
  {
   "cell_type": "code",
   "execution_count": 328,
   "metadata": {},
   "outputs": [
    {
     "data": {
      "text/plain": [
       "Age                                     0\n",
       "Number of sexual partners              26\n",
       "First sexual intercourse                7\n",
       "Num of pregnancies                     56\n",
       "Smokes                                  0\n",
       "Smokes (years)                         13\n",
       "Smokes (packs/year)                    13\n",
       "Hormonal Contraceptives                 0\n",
       "Hormonal Contraceptives (years)       108\n",
       "IUD                                     0\n",
       "IUD (years)                           117\n",
       "STDs                                    0\n",
       "STDs (number)                         105\n",
       "STDs:condylomatosis                     0\n",
       "STDs:cervical condylomatosis            0\n",
       "STDs:vaginal condylomatosis             0\n",
       "STDs:vulvo-perineal condylomatosis      0\n",
       "STDs:syphilis                           0\n",
       "STDs:pelvic inflammatory disease        0\n",
       "STDs:genital herpes                     0\n",
       "STDs:molluscum contagiosum              0\n",
       "STDs:AIDS                               0\n",
       "STDs:HIV                                0\n",
       "STDs:Hepatitis B                        0\n",
       "STDs:HPV                                0\n",
       "STDs: Number of diagnosis               0\n",
       "STDs: Time since first diagnosis      787\n",
       "STDs: Time since last diagnosis       787\n",
       "Dx:Cancer                               0\n",
       "Dx:CIN                                  0\n",
       "Dx:HPV                                  0\n",
       "Dx                                      0\n",
       "Hinselmann                              0\n",
       "Schiller                                0\n",
       "Citology                                0\n",
       "Biopsy                                  0\n",
       "dtype: int64"
      ]
     },
     "execution_count": 328,
     "metadata": {},
     "output_type": "execute_result"
    }
   ],
   "source": [
    "cleanColumns = [\"STDs\",\"STDs:condylomatosis\",\"STDs:cervical condylomatosis\",\"STDs:vaginal condylomatosis\",\n",
    "            \"STDs:vulvo-perineal condylomatosis\",\"STDs:syphilis\",\"STDs:pelvic inflammatory disease\",\n",
    "            \"STDs:genital herpes\",\n",
    "            \"STDs:molluscum contagiosum\",\"STDs:AIDS\",\"STDs:HIV\",\"STDs:Hepatitis B\",\"STDs:HPV\",\"Smokes\",\n",
    "            \"Hormonal Contraceptives\",\"IUD\"]\n",
    "\n",
    "for column in cleanColumns:\n",
    "    cervical_df[column] = cervical_df[column].ffill()\n",
    "    cervical_df[column] = cervical_df[column].bfill()\n",
    "\n",
    "cervical_df.isin([np.NaN]).sum(axis=0)"
   ]
  },
  {
   "cell_type": "markdown",
   "metadata": {},
   "source": [
    "Replacing null values with mean for all the columns with data type as number/float."
   ]
  },
  {
   "cell_type": "code",
   "execution_count": 329,
   "metadata": {},
   "outputs": [],
   "source": [
    "float_column=[\"Smokes (years)\",\"Smokes (packs/year)\",\"Number of sexual partners\",\n",
    "             \"First sexual intercourse\",\"Num of pregnancies\",\"Hormonal Contraceptives (years)\",\n",
    "             \"IUD (years)\",\"STDs (number)\"]\n",
    "for column in float_column:\n",
    "    cervical_df[column] = cervical_df[column].astype('float64')"
   ]
  },
  {
   "cell_type": "code",
   "execution_count": 330,
   "metadata": {},
   "outputs": [],
   "source": [
    "for column in float_column:\n",
    "    mean=cervical_df[column].mean()\n",
    "    cervical_df[column]=cervical_df[column].fillna(mean)"
   ]
  },
  {
   "cell_type": "code",
   "execution_count": 331,
   "metadata": {},
   "outputs": [
    {
     "data": {
      "text/plain": [
       "Age                                     0\n",
       "Number of sexual partners               0\n",
       "First sexual intercourse                0\n",
       "Num of pregnancies                      0\n",
       "Smokes                                  0\n",
       "Smokes (years)                          0\n",
       "Smokes (packs/year)                     0\n",
       "Hormonal Contraceptives                 0\n",
       "Hormonal Contraceptives (years)         0\n",
       "IUD                                     0\n",
       "IUD (years)                             0\n",
       "STDs                                    0\n",
       "STDs (number)                           0\n",
       "STDs:condylomatosis                     0\n",
       "STDs:cervical condylomatosis            0\n",
       "STDs:vaginal condylomatosis             0\n",
       "STDs:vulvo-perineal condylomatosis      0\n",
       "STDs:syphilis                           0\n",
       "STDs:pelvic inflammatory disease        0\n",
       "STDs:genital herpes                     0\n",
       "STDs:molluscum contagiosum              0\n",
       "STDs:AIDS                               0\n",
       "STDs:HIV                                0\n",
       "STDs:Hepatitis B                        0\n",
       "STDs:HPV                                0\n",
       "STDs: Number of diagnosis               0\n",
       "STDs: Time since first diagnosis      787\n",
       "STDs: Time since last diagnosis       787\n",
       "Dx:Cancer                               0\n",
       "Dx:CIN                                  0\n",
       "Dx:HPV                                  0\n",
       "Dx                                      0\n",
       "Hinselmann                              0\n",
       "Schiller                                0\n",
       "Citology                                0\n",
       "Biopsy                                  0\n",
       "dtype: int64"
      ]
     },
     "execution_count": 331,
     "metadata": {},
     "output_type": "execute_result"
    }
   ],
   "source": [
    "cervical_df.isin([np.NaN]).sum(axis=0)"
   ]
  },
  {
   "cell_type": "code",
   "execution_count": 332,
   "metadata": {},
   "outputs": [
    {
     "data": {
      "text/html": [
       "<div>\n",
       "<style scoped>\n",
       "    .dataframe tbody tr th:only-of-type {\n",
       "        vertical-align: middle;\n",
       "    }\n",
       "\n",
       "    .dataframe tbody tr th {\n",
       "        vertical-align: top;\n",
       "    }\n",
       "\n",
       "    .dataframe thead th {\n",
       "        text-align: right;\n",
       "    }\n",
       "</style>\n",
       "<table border=\"1\" class=\"dataframe\">\n",
       "  <thead>\n",
       "    <tr style=\"text-align: right;\">\n",
       "      <th></th>\n",
       "      <th>Age</th>\n",
       "      <th>Number of sexual partners</th>\n",
       "      <th>First sexual intercourse</th>\n",
       "      <th>Num of pregnancies</th>\n",
       "      <th>Smokes</th>\n",
       "      <th>Smokes (years)</th>\n",
       "      <th>Smokes (packs/year)</th>\n",
       "      <th>Hormonal Contraceptives</th>\n",
       "      <th>Hormonal Contraceptives (years)</th>\n",
       "      <th>IUD</th>\n",
       "      <th>...</th>\n",
       "      <th>STDs: Time since first diagnosis</th>\n",
       "      <th>STDs: Time since last diagnosis</th>\n",
       "      <th>Dx:Cancer</th>\n",
       "      <th>Dx:CIN</th>\n",
       "      <th>Dx:HPV</th>\n",
       "      <th>Dx</th>\n",
       "      <th>Hinselmann</th>\n",
       "      <th>Schiller</th>\n",
       "      <th>Citology</th>\n",
       "      <th>Biopsy</th>\n",
       "    </tr>\n",
       "  </thead>\n",
       "  <tbody>\n",
       "    <tr>\n",
       "      <th>count</th>\n",
       "      <td>858.000000</td>\n",
       "      <td>858.000000</td>\n",
       "      <td>858.000000</td>\n",
       "      <td>858.000000</td>\n",
       "      <td>858</td>\n",
       "      <td>858.000000</td>\n",
       "      <td>858.000000</td>\n",
       "      <td>858</td>\n",
       "      <td>858.000000</td>\n",
       "      <td>858</td>\n",
       "      <td>...</td>\n",
       "      <td>71</td>\n",
       "      <td>71</td>\n",
       "      <td>858.000000</td>\n",
       "      <td>858.000000</td>\n",
       "      <td>858.000000</td>\n",
       "      <td>858.000000</td>\n",
       "      <td>858.000000</td>\n",
       "      <td>858.000000</td>\n",
       "      <td>858.000000</td>\n",
       "      <td>858.000000</td>\n",
       "    </tr>\n",
       "    <tr>\n",
       "      <th>unique</th>\n",
       "      <td>NaN</td>\n",
       "      <td>NaN</td>\n",
       "      <td>NaN</td>\n",
       "      <td>NaN</td>\n",
       "      <td>2</td>\n",
       "      <td>NaN</td>\n",
       "      <td>NaN</td>\n",
       "      <td>2</td>\n",
       "      <td>NaN</td>\n",
       "      <td>2</td>\n",
       "      <td>...</td>\n",
       "      <td>18</td>\n",
       "      <td>18</td>\n",
       "      <td>NaN</td>\n",
       "      <td>NaN</td>\n",
       "      <td>NaN</td>\n",
       "      <td>NaN</td>\n",
       "      <td>NaN</td>\n",
       "      <td>NaN</td>\n",
       "      <td>NaN</td>\n",
       "      <td>NaN</td>\n",
       "    </tr>\n",
       "    <tr>\n",
       "      <th>top</th>\n",
       "      <td>NaN</td>\n",
       "      <td>NaN</td>\n",
       "      <td>NaN</td>\n",
       "      <td>NaN</td>\n",
       "      <td>0.0</td>\n",
       "      <td>NaN</td>\n",
       "      <td>NaN</td>\n",
       "      <td>1.0</td>\n",
       "      <td>NaN</td>\n",
       "      <td>0.0</td>\n",
       "      <td>...</td>\n",
       "      <td>1.0</td>\n",
       "      <td>1.0</td>\n",
       "      <td>NaN</td>\n",
       "      <td>NaN</td>\n",
       "      <td>NaN</td>\n",
       "      <td>NaN</td>\n",
       "      <td>NaN</td>\n",
       "      <td>NaN</td>\n",
       "      <td>NaN</td>\n",
       "      <td>NaN</td>\n",
       "    </tr>\n",
       "    <tr>\n",
       "      <th>freq</th>\n",
       "      <td>NaN</td>\n",
       "      <td>NaN</td>\n",
       "      <td>NaN</td>\n",
       "      <td>NaN</td>\n",
       "      <td>732</td>\n",
       "      <td>NaN</td>\n",
       "      <td>NaN</td>\n",
       "      <td>545</td>\n",
       "      <td>NaN</td>\n",
       "      <td>764</td>\n",
       "      <td>...</td>\n",
       "      <td>15</td>\n",
       "      <td>17</td>\n",
       "      <td>NaN</td>\n",
       "      <td>NaN</td>\n",
       "      <td>NaN</td>\n",
       "      <td>NaN</td>\n",
       "      <td>NaN</td>\n",
       "      <td>NaN</td>\n",
       "      <td>NaN</td>\n",
       "      <td>NaN</td>\n",
       "    </tr>\n",
       "    <tr>\n",
       "      <th>mean</th>\n",
       "      <td>26.820513</td>\n",
       "      <td>2.527644</td>\n",
       "      <td>16.995300</td>\n",
       "      <td>2.275561</td>\n",
       "      <td>NaN</td>\n",
       "      <td>1.219721</td>\n",
       "      <td>0.453144</td>\n",
       "      <td>NaN</td>\n",
       "      <td>2.256419</td>\n",
       "      <td>NaN</td>\n",
       "      <td>...</td>\n",
       "      <td>NaN</td>\n",
       "      <td>NaN</td>\n",
       "      <td>0.020979</td>\n",
       "      <td>0.010490</td>\n",
       "      <td>0.020979</td>\n",
       "      <td>0.027972</td>\n",
       "      <td>0.040793</td>\n",
       "      <td>0.086247</td>\n",
       "      <td>0.051282</td>\n",
       "      <td>0.064103</td>\n",
       "    </tr>\n",
       "    <tr>\n",
       "      <th>std</th>\n",
       "      <td>8.497948</td>\n",
       "      <td>1.642267</td>\n",
       "      <td>2.791883</td>\n",
       "      <td>1.399325</td>\n",
       "      <td>NaN</td>\n",
       "      <td>4.057885</td>\n",
       "      <td>2.209657</td>\n",
       "      <td>NaN</td>\n",
       "      <td>3.519082</td>\n",
       "      <td>NaN</td>\n",
       "      <td>...</td>\n",
       "      <td>NaN</td>\n",
       "      <td>NaN</td>\n",
       "      <td>0.143398</td>\n",
       "      <td>0.101939</td>\n",
       "      <td>0.143398</td>\n",
       "      <td>0.164989</td>\n",
       "      <td>0.197925</td>\n",
       "      <td>0.280892</td>\n",
       "      <td>0.220701</td>\n",
       "      <td>0.245078</td>\n",
       "    </tr>\n",
       "    <tr>\n",
       "      <th>min</th>\n",
       "      <td>13.000000</td>\n",
       "      <td>1.000000</td>\n",
       "      <td>10.000000</td>\n",
       "      <td>0.000000</td>\n",
       "      <td>NaN</td>\n",
       "      <td>0.000000</td>\n",
       "      <td>0.000000</td>\n",
       "      <td>NaN</td>\n",
       "      <td>0.000000</td>\n",
       "      <td>NaN</td>\n",
       "      <td>...</td>\n",
       "      <td>NaN</td>\n",
       "      <td>NaN</td>\n",
       "      <td>0.000000</td>\n",
       "      <td>0.000000</td>\n",
       "      <td>0.000000</td>\n",
       "      <td>0.000000</td>\n",
       "      <td>0.000000</td>\n",
       "      <td>0.000000</td>\n",
       "      <td>0.000000</td>\n",
       "      <td>0.000000</td>\n",
       "    </tr>\n",
       "    <tr>\n",
       "      <th>25%</th>\n",
       "      <td>20.000000</td>\n",
       "      <td>2.000000</td>\n",
       "      <td>15.000000</td>\n",
       "      <td>1.000000</td>\n",
       "      <td>NaN</td>\n",
       "      <td>0.000000</td>\n",
       "      <td>0.000000</td>\n",
       "      <td>NaN</td>\n",
       "      <td>0.000000</td>\n",
       "      <td>NaN</td>\n",
       "      <td>...</td>\n",
       "      <td>NaN</td>\n",
       "      <td>NaN</td>\n",
       "      <td>0.000000</td>\n",
       "      <td>0.000000</td>\n",
       "      <td>0.000000</td>\n",
       "      <td>0.000000</td>\n",
       "      <td>0.000000</td>\n",
       "      <td>0.000000</td>\n",
       "      <td>0.000000</td>\n",
       "      <td>0.000000</td>\n",
       "    </tr>\n",
       "    <tr>\n",
       "      <th>50%</th>\n",
       "      <td>25.000000</td>\n",
       "      <td>2.000000</td>\n",
       "      <td>17.000000</td>\n",
       "      <td>2.000000</td>\n",
       "      <td>NaN</td>\n",
       "      <td>0.000000</td>\n",
       "      <td>0.000000</td>\n",
       "      <td>NaN</td>\n",
       "      <td>1.000000</td>\n",
       "      <td>NaN</td>\n",
       "      <td>...</td>\n",
       "      <td>NaN</td>\n",
       "      <td>NaN</td>\n",
       "      <td>0.000000</td>\n",
       "      <td>0.000000</td>\n",
       "      <td>0.000000</td>\n",
       "      <td>0.000000</td>\n",
       "      <td>0.000000</td>\n",
       "      <td>0.000000</td>\n",
       "      <td>0.000000</td>\n",
       "      <td>0.000000</td>\n",
       "    </tr>\n",
       "    <tr>\n",
       "      <th>75%</th>\n",
       "      <td>32.000000</td>\n",
       "      <td>3.000000</td>\n",
       "      <td>18.000000</td>\n",
       "      <td>3.000000</td>\n",
       "      <td>NaN</td>\n",
       "      <td>0.000000</td>\n",
       "      <td>0.000000</td>\n",
       "      <td>NaN</td>\n",
       "      <td>2.256419</td>\n",
       "      <td>NaN</td>\n",
       "      <td>...</td>\n",
       "      <td>NaN</td>\n",
       "      <td>NaN</td>\n",
       "      <td>0.000000</td>\n",
       "      <td>0.000000</td>\n",
       "      <td>0.000000</td>\n",
       "      <td>0.000000</td>\n",
       "      <td>0.000000</td>\n",
       "      <td>0.000000</td>\n",
       "      <td>0.000000</td>\n",
       "      <td>0.000000</td>\n",
       "    </tr>\n",
       "    <tr>\n",
       "      <th>max</th>\n",
       "      <td>84.000000</td>\n",
       "      <td>28.000000</td>\n",
       "      <td>32.000000</td>\n",
       "      <td>11.000000</td>\n",
       "      <td>NaN</td>\n",
       "      <td>37.000000</td>\n",
       "      <td>37.000000</td>\n",
       "      <td>NaN</td>\n",
       "      <td>30.000000</td>\n",
       "      <td>NaN</td>\n",
       "      <td>...</td>\n",
       "      <td>NaN</td>\n",
       "      <td>NaN</td>\n",
       "      <td>1.000000</td>\n",
       "      <td>1.000000</td>\n",
       "      <td>1.000000</td>\n",
       "      <td>1.000000</td>\n",
       "      <td>1.000000</td>\n",
       "      <td>1.000000</td>\n",
       "      <td>1.000000</td>\n",
       "      <td>1.000000</td>\n",
       "    </tr>\n",
       "  </tbody>\n",
       "</table>\n",
       "<p>11 rows × 36 columns</p>\n",
       "</div>"
      ],
      "text/plain": [
       "               Age  Number of sexual partners  First sexual intercourse  \\\n",
       "count   858.000000                 858.000000                858.000000   \n",
       "unique         NaN                        NaN                       NaN   \n",
       "top            NaN                        NaN                       NaN   \n",
       "freq           NaN                        NaN                       NaN   \n",
       "mean     26.820513                   2.527644                 16.995300   \n",
       "std       8.497948                   1.642267                  2.791883   \n",
       "min      13.000000                   1.000000                 10.000000   \n",
       "25%      20.000000                   2.000000                 15.000000   \n",
       "50%      25.000000                   2.000000                 17.000000   \n",
       "75%      32.000000                   3.000000                 18.000000   \n",
       "max      84.000000                  28.000000                 32.000000   \n",
       "\n",
       "        Num of pregnancies Smokes  Smokes (years)  Smokes (packs/year)  \\\n",
       "count           858.000000    858      858.000000           858.000000   \n",
       "unique                 NaN      2             NaN                  NaN   \n",
       "top                    NaN    0.0             NaN                  NaN   \n",
       "freq                   NaN    732             NaN                  NaN   \n",
       "mean              2.275561    NaN        1.219721             0.453144   \n",
       "std               1.399325    NaN        4.057885             2.209657   \n",
       "min               0.000000    NaN        0.000000             0.000000   \n",
       "25%               1.000000    NaN        0.000000             0.000000   \n",
       "50%               2.000000    NaN        0.000000             0.000000   \n",
       "75%               3.000000    NaN        0.000000             0.000000   \n",
       "max              11.000000    NaN       37.000000            37.000000   \n",
       "\n",
       "       Hormonal Contraceptives  Hormonal Contraceptives (years)  IUD  \\\n",
       "count                      858                       858.000000  858   \n",
       "unique                       2                              NaN    2   \n",
       "top                        1.0                              NaN  0.0   \n",
       "freq                       545                              NaN  764   \n",
       "mean                       NaN                         2.256419  NaN   \n",
       "std                        NaN                         3.519082  NaN   \n",
       "min                        NaN                         0.000000  NaN   \n",
       "25%                        NaN                         0.000000  NaN   \n",
       "50%                        NaN                         1.000000  NaN   \n",
       "75%                        NaN                         2.256419  NaN   \n",
       "max                        NaN                        30.000000  NaN   \n",
       "\n",
       "           ...      STDs: Time since first diagnosis  \\\n",
       "count      ...                                    71   \n",
       "unique     ...                                    18   \n",
       "top        ...                                   1.0   \n",
       "freq       ...                                    15   \n",
       "mean       ...                                   NaN   \n",
       "std        ...                                   NaN   \n",
       "min        ...                                   NaN   \n",
       "25%        ...                                   NaN   \n",
       "50%        ...                                   NaN   \n",
       "75%        ...                                   NaN   \n",
       "max        ...                                   NaN   \n",
       "\n",
       "       STDs: Time since last diagnosis   Dx:Cancer      Dx:CIN      Dx:HPV  \\\n",
       "count                               71  858.000000  858.000000  858.000000   \n",
       "unique                              18         NaN         NaN         NaN   \n",
       "top                                1.0         NaN         NaN         NaN   \n",
       "freq                                17         NaN         NaN         NaN   \n",
       "mean                               NaN    0.020979    0.010490    0.020979   \n",
       "std                                NaN    0.143398    0.101939    0.143398   \n",
       "min                                NaN    0.000000    0.000000    0.000000   \n",
       "25%                                NaN    0.000000    0.000000    0.000000   \n",
       "50%                                NaN    0.000000    0.000000    0.000000   \n",
       "75%                                NaN    0.000000    0.000000    0.000000   \n",
       "max                                NaN    1.000000    1.000000    1.000000   \n",
       "\n",
       "                Dx  Hinselmann    Schiller    Citology      Biopsy  \n",
       "count   858.000000  858.000000  858.000000  858.000000  858.000000  \n",
       "unique         NaN         NaN         NaN         NaN         NaN  \n",
       "top            NaN         NaN         NaN         NaN         NaN  \n",
       "freq           NaN         NaN         NaN         NaN         NaN  \n",
       "mean      0.027972    0.040793    0.086247    0.051282    0.064103  \n",
       "std       0.164989    0.197925    0.280892    0.220701    0.245078  \n",
       "min       0.000000    0.000000    0.000000    0.000000    0.000000  \n",
       "25%       0.000000    0.000000    0.000000    0.000000    0.000000  \n",
       "50%       0.000000    0.000000    0.000000    0.000000    0.000000  \n",
       "75%       0.000000    0.000000    0.000000    0.000000    0.000000  \n",
       "max       1.000000    1.000000    1.000000    1.000000    1.000000  \n",
       "\n",
       "[11 rows x 36 columns]"
      ]
     },
     "execution_count": 332,
     "metadata": {},
     "output_type": "execute_result"
    }
   ],
   "source": [
    "cervical_df.describe(include='all')"
   ]
  },
  {
   "cell_type": "markdown",
   "metadata": {},
   "source": [
    "Column 'STDs: Time since first diagnosis' and 'STDs: Time since last diagnosis' has large number of null. \n",
    "Replacing it with mean may not give us correct value of the column"
   ]
  },
  {
   "cell_type": "code",
   "execution_count": 333,
   "metadata": {},
   "outputs": [
    {
     "data": {
      "text/plain": [
       "1.0     15\n",
       "3.0     10\n",
       "2.0      9\n",
       "4.0      6\n",
       "7.0      5\n",
       "5.0      4\n",
       "16.0     4\n",
       "6.0      3\n",
       "8.0      3\n",
       "21.0     2\n",
       "11.0     2\n",
       "19.0     2\n",
       "22.0     1\n",
       "9.0      1\n",
       "15.0     1\n",
       "12.0     1\n",
       "10.0     1\n",
       "18.0     1\n",
       "Name: STDs: Time since first diagnosis, dtype: int64"
      ]
     },
     "execution_count": 333,
     "metadata": {},
     "output_type": "execute_result"
    }
   ],
   "source": [
    "cervical_df['STDs: Time since first diagnosis'].value_counts()"
   ]
  },
  {
   "cell_type": "code",
   "execution_count": 334,
   "metadata": {},
   "outputs": [
    {
     "data": {
      "text/plain": [
       "1.0     17\n",
       "2.0     10\n",
       "3.0      9\n",
       "4.0      6\n",
       "7.0      5\n",
       "16.0     4\n",
       "5.0      3\n",
       "6.0      3\n",
       "8.0      3\n",
       "21.0     2\n",
       "11.0     2\n",
       "22.0     1\n",
       "9.0      1\n",
       "15.0     1\n",
       "12.0     1\n",
       "10.0     1\n",
       "19.0     1\n",
       "18.0     1\n",
       "Name: STDs: Time since last diagnosis, dtype: int64"
      ]
     },
     "execution_count": 334,
     "metadata": {},
     "output_type": "execute_result"
    }
   ],
   "source": [
    "cervical_df['STDs: Time since last diagnosis'].value_counts()"
   ]
  },
  {
   "cell_type": "code",
   "execution_count": 335,
   "metadata": {},
   "outputs": [],
   "source": [
    "cervical_df.drop(columns=['STDs: Time since first diagnosis', 'STDs: Time since last diagnosis'],inplace=True)"
   ]
  },
  {
   "cell_type": "markdown",
   "metadata": {},
   "source": [
    "Droping other three target columns since we are not going to use them for analysis in this project."
   ]
  },
  {
   "cell_type": "code",
   "execution_count": 336,
   "metadata": {},
   "outputs": [],
   "source": [
    "cervical_df.drop(columns=['Schiller','Citology','Biopsy'],inplace=True)"
   ]
  },
  {
   "cell_type": "markdown",
   "metadata": {},
   "source": [
    "Creating scattered matrix to map correlation between columns\n",
    "\n",
    "Note: Change path based on where cervical_cancer is saved in local computer"
   ]
  },
  {
   "cell_type": "code",
   "execution_count": 337,
   "metadata": {},
   "outputs": [],
   "source": [
    "cervical_df.to_csv(\"/home/centisha/data/Cervical_Cancer/risk_factors_cervical_cancer_transformed.csv\")"
   ]
  },
  {
   "cell_type": "markdown",
   "metadata": {},
   "source": [
    "Note: Change path based on where cervical_cancer is saved in local computer"
   ]
  },
  {
   "cell_type": "code",
   "execution_count": 338,
   "metadata": {},
   "outputs": [],
   "source": [
    "cervical_df=spark.read.csv(\"/home/centisha/data/Cervical_Cancer/risk_factors_cervical_cancer_transformed.csv\",header=True,inferSchema='true')"
   ]
  },
  {
   "cell_type": "code",
   "execution_count": 339,
   "metadata": {},
   "outputs": [
    {
     "name": "stdout",
     "output_type": "stream",
     "text": [
      "+----------+-----+\n",
      "|Hinselmann|count|\n",
      "+----------+-----+\n",
      "|         1|   35|\n",
      "|         0|  823|\n",
      "+----------+-----+\n",
      "\n"
     ]
    }
   ],
   "source": [
    "\n",
    "cervical_df.groupby('Hinselmann').count().show()\n"
   ]
  },
  {
   "cell_type": "markdown",
   "metadata": {},
   "source": [
    "Find correlation between feature and target column."
   ]
  },
  {
   "cell_type": "code",
   "execution_count": 340,
   "metadata": {},
   "outputs": [
    {
     "name": "stdout",
     "output_type": "stream",
     "text": [
      "('Correlation to Hinselmann for ', 'Number of sexual partners', -0.039272542601414336)\n",
      "('Correlation to Hinselmann for ', 'First sexual intercourse', -0.0165458131338407)\n",
      "('Correlation to Hinselmann for ', 'Num of pregnancies', 0.0386847743476278)\n",
      "('Correlation to Hinselmann for ', 'Smokes', 0.04761017803825785)\n",
      "('Correlation to Hinselmann for ', 'Smokes (years)', 0.07123227048340815)\n",
      "('Correlation to Hinselmann for ', 'Smokes (packs/year)', 0.026662130160738755)\n",
      "('Correlation to Hinselmann for ', 'Hormonal Contraceptives', 0.03388123670972414)\n",
      "('Correlation to Hinselmann for ', 'Hormonal Contraceptives (years)', 0.0388253891651817)\n",
      "('Correlation to Hinselmann for ', 'IUD', 0.04085085623512077)\n",
      "('Correlation to Hinselmann for ', 'IUD (years)', 0.007858049491657559)\n",
      "('Correlation to Hinselmann for ', 'STDs', 0.044777483174909045)\n",
      "('Correlation to Hinselmann for ', 'STDs (number)', 0.06515507992767904)\n",
      "('Correlation to Hinselmann for ', 'STDs:condylomatosis', 0.04783412168328441)\n",
      "('Correlation to Hinselmann for ', 'STDs:cervical condylomatosis', nan)\n",
      "('Correlation to Hinselmann for ', 'STDs:vaginal condylomatosis', -0.014113514211189166)\n",
      "('Correlation to Hinselmann for ', 'STDs:vulvo-perineal condylomatosis', 0.04930618139512949)\n",
      "('Correlation to Hinselmann for ', 'STDs:syphilis', 0.005466367117956038)\n",
      "('Correlation to Hinselmann for ', 'STDs:pelvic inflammatory disease', -0.00704439489387292)\n",
      "('Correlation to Hinselmann for ', 'STDs:genital herpes', -0.007044394893872918)\n",
      "('Correlation to Hinselmann for ', 'STDs:molluscum contagiosum', -0.007044394893872917)\n",
      "('Correlation to Hinselmann for ', 'STDs:AIDS', nan)\n",
      "('Correlation to Hinselmann for ', 'STDs:HIV', 0.0817288547148059)\n",
      "('Correlation to Hinselmann for ', 'STDs:Hepatitis B', -0.00704439489387292)\n",
      "('Correlation to Hinselmann for ', 'STDs:HPV', -0.009968096187201538)\n",
      "('Correlation to Hinselmann for ', 'STDs: Number of diagnosis', 0.07678697635539096)\n",
      "('Correlation to Hinselmann for ', 'Dx:Cancer', 0.13426360243457425)\n",
      "('Correlation to Hinselmann for ', 'Dx:CIN', -0.021232518646999432)\n",
      "('Correlation to Hinselmann for ', 'Dx:HPV', 0.13426360243457428)\n",
      "('Correlation to Hinselmann for ', 'Dx', 0.07221484895041885)\n",
      "('Correlation to Hinselmann for ', 'Age', -0.003966847241108163)\n"
     ]
    }
   ],
   "source": [
    "independent_column=[\"Number of sexual partners\",\"First sexual intercourse\", \"Num of pregnancies\", \"Smokes\",\n",
    "                    \"Smokes (years)\",\"Smokes (packs/year)\",\"Hormonal Contraceptives\", \"Hormonal Contraceptives (years)\"\n",
    "                    ,\"IUD\",\"IUD (years)\",\"STDs\",\"STDs (number)\", \"STDs:condylomatosis\" , \"STDs:cervical condylomatosis\"\n",
    "                    ,\"STDs:vaginal condylomatosis\",\"STDs:vulvo-perineal condylomatosis\",\"STDs:syphilis\",\n",
    "                    \"STDs:pelvic inflammatory disease\",\"STDs:genital herpes\", \"STDs:molluscum contagiosum\",\n",
    "                    \"STDs:AIDS\",\"STDs:HIV\" ,\"STDs:Hepatitis B\",\"STDs:HPV\",\"STDs: Number of diagnosis\",\n",
    "                    \"Dx:Cancer\",\"Dx:CIN\",\"Dx:HPV\",\"Dx\",\"Age\"]\n",
    "for column in independent_column:\n",
    "    print( \"Correlation to Hinselmann for \", column, cervical_df.stat.corr('Hinselmann', column))"
   ]
  },
  {
   "cell_type": "markdown",
   "metadata": {},
   "source": [
    "Create vector defining feature and target column."
   ]
  },
  {
   "cell_type": "code",
   "execution_count": 341,
   "metadata": {},
   "outputs": [
    {
     "name": "stdout",
     "output_type": "stream",
     "text": [
      "+--------------------+----------+-------------------------+------------------------+------------------+------+--------------+-------------------+-----------------------+-------------------------------+---+-----------+----+-------------+-------------------+----------------------------+---------------------------+----------------------------------+-------------+--------------------------------+-------------------+--------------------------+---------+--------+----------------+--------+-------------------------+---------+------+------+---+---+\n",
      "|            features|Hinselmann|Number of sexual partners|First sexual intercourse|Num of pregnancies|Smokes|Smokes (years)|Smokes (packs/year)|Hormonal Contraceptives|Hormonal Contraceptives (years)|IUD|IUD (years)|STDs|STDs (number)|STDs:condylomatosis|STDs:cervical condylomatosis|STDs:vaginal condylomatosis|STDs:vulvo-perineal condylomatosis|STDs:syphilis|STDs:pelvic inflammatory disease|STDs:genital herpes|STDs:molluscum contagiosum|STDs:AIDS|STDs:HIV|STDs:Hepatitis B|STDs:HPV|STDs: Number of diagnosis|Dx:Cancer|Dx:CIN|Dx:HPV| Dx|Age|\n",
      "+--------------------+----------+-------------------------+------------------------+------------------+------+--------------+-------------------+-----------------------+-------------------------------+---+-----------+----+-------------+-------------------+----------------------------+---------------------------+----------------------------------+-------------+--------------------------------+-------------------+--------------------------+---------+--------+----------------+--------+-------------------------+---------+------+------+---+---+\n",
      "|(30,[0,1,2,29],[4...|         0|                      4.0|                    15.0|               1.0|   0.0|           0.0|                0.0|                    0.0|                            0.0|0.0|        0.0| 0.0|          0.0|                0.0|                         0.0|                        0.0|                               0.0|          0.0|                             0.0|                0.0|                       0.0|      0.0|     0.0|             0.0|     0.0|                        0|        0|     0|     0|  0| 18|\n",
      "|(30,[0,1,2,29],[1...|         0|                      1.0|                    14.0|               1.0|   0.0|           0.0|                0.0|                    0.0|                            0.0|0.0|        0.0| 0.0|          0.0|                0.0|                         0.0|                        0.0|                               0.0|          0.0|                             0.0|                0.0|                       0.0|      0.0|     0.0|             0.0|     0.0|                        0|        0|     0|     0|  0| 15|\n",
      "|(30,[0,1,2,29],[1...|         0|                      1.0|      16.995299647473562|               1.0|   0.0|           0.0|                0.0|                    0.0|                            0.0|0.0|        0.0| 0.0|          0.0|                0.0|                         0.0|                        0.0|                               0.0|          0.0|                             0.0|                0.0|                       0.0|      0.0|     0.0|             0.0|     0.0|                        0|        0|     0|     0|  0| 34|\n",
      "+--------------------+----------+-------------------------+------------------------+------------------+------+--------------+-------------------+-----------------------+-------------------------------+---+-----------+----+-------------+-------------------+----------------------------+---------------------------+----------------------------------+-------------+--------------------------------+-------------------+--------------------------+---------+--------+----------------+--------+-------------------------+---------+------+------+---+---+\n",
      "only showing top 3 rows\n",
      "\n"
     ]
    }
   ],
   "source": [
    "from pyspark.ml.feature import VectorAssembler\n",
    "stages = []\n",
    "vectorAssembler = VectorAssembler(inputCols=independent_column, outputCol= 'features')\n",
    "vCervical_df= vectorAssembler.transform(cervical_df)\n",
    "\n",
    "vCervical_df=vCervical_df.select(['features','Hinselmann',\"Number of sexual partners\",\"First sexual intercourse\",\n",
    "                                  \"Num of pregnancies\", \"Smokes\",\"Smokes (years)\",\"Smokes (packs/year)\",\n",
    "                                  \"Hormonal Contraceptives\", \"Hormonal Contraceptives (years)\",\"IUD\",\"IUD (years)\",\n",
    "                                  \"STDs\",\"STDs (number)\", \"STDs:condylomatosis\" , \"STDs:cervical condylomatosis\",\n",
    "                                  \"STDs:vaginal condylomatosis\",\"STDs:vulvo-perineal condylomatosis\",\"STDs:syphilis\",\n",
    "                                  \"STDs:pelvic inflammatory disease\",\"STDs:genital herpes\", \"STDs:molluscum contagiosum\",\n",
    "                                  \"STDs:AIDS\",\"STDs:HIV\" ,\"STDs:Hepatitis B\",\"STDs:HPV\",\"STDs: Number of diagnosis\",\n",
    "                                  \"Dx:Cancer\",\"Dx:CIN\",\"Dx:HPV\",\"Dx\",\"Age\"])\n",
    "vCervical_df.show(3)"
   ]
  },
  {
   "cell_type": "markdown",
   "metadata": {},
   "source": [
    "Creating training and test dataset for ML algorithim"
   ]
  },
  {
   "cell_type": "code",
   "execution_count": 342,
   "metadata": {},
   "outputs": [
    {
     "name": "stdout",
     "output_type": "stream",
     "text": [
      "Training Dataset Count: 605\n",
      "Test Dataset Count: 253\n"
     ]
    }
   ],
   "source": [
    "train_Hinselmann, test_Hinselmann =vCervical_df.randomSplit([0.7, 0.3], seed = 2018)\n",
    "print(\"Training Dataset Count: \" +str(train_Hinselmann.count()))\n",
    "print(\"Test Dataset Count: \" + str(test_Hinselmann.count()))"
   ]
  },
  {
   "cell_type": "markdown",
   "metadata": {},
   "source": [
    "Apply logistic Regression on the data set and print coefficient to see mostr important features"
   ]
  },
  {
   "cell_type": "code",
   "execution_count": 343,
   "metadata": {},
   "outputs": [],
   "source": [
    "from pyspark.ml.classification import LogisticRegression\n",
    "lr_Hinselmann = LogisticRegression(featuresCol = 'features', labelCol = 'Hinselmann', maxIter=10)\n",
    "lrModel_Hinselmann = lr_Hinselmann.fit(train_Hinselmann)"
   ]
  },
  {
   "cell_type": "code",
   "execution_count": 344,
   "metadata": {},
   "outputs": [
    {
     "name": "stdout",
     "output_type": "stream",
     "text": [
      "Coefficients: [-0.2589463752686743,0.028341749542656888,0.14499151710134317,-0.021149305960679612,0.14748607320251575,-0.1410328830619211,0.43555288323674834,0.036390361692831746,0.43135294466469626,-0.08098716299841119,0.13195554134700394,0.039280457252840704,0.3575744408590773,0.0,-2.372670286432076,0.3575744408590773,-2.3096006993163796,0.0,-1.6753394392809486,-1.5043415261441477,0.0,1.9023180098202326,-2.9825969368957423,-7.4280081768292305,-1.5034138485012494,1.2504831160560497,-2.576306967687321,1.7333391795598165,0.40825832046753047,-0.04322373780053746]\n"
     ]
    }
   ],
   "source": [
    "print(\"Coefficients: \" + str(lrModel_Hinselmann.coefficients))"
   ]
  },
  {
   "cell_type": "markdown",
   "metadata": {},
   "source": [
    "calculation are under the curve for Logistic Regression."
   ]
  },
  {
   "cell_type": "code",
   "execution_count": 345,
   "metadata": {},
   "outputs": [
    {
     "data": {
      "image/png": "[encoded data removed]",
      "text/plain": [
       "<Figure size 432x288 with 1 Axes>"
      ]
     },
     "metadata": {
      "needs_background": "light"
     },
     "output_type": "display_data"
    },
    {
     "name": "stdout",
     "output_type": "stream",
     "text": [
      "Training set areaUnderROC: 0.72985975212\n"
     ]
    }
   ],
   "source": [
    "trainingSummary_Hinselmann = lrModel_Hinselmann.summary\n",
    "\n",
    "roc = trainingSummary_Hinselmann.roc.toPandas()\n",
    "\n",
    "plt.plot(roc['FPR'],roc['TPR'])\n",
    "plt.ylabel('False Positive Rate')\n",
    "plt.xlabel('True Positive Rate')\n",
    "plt.title('ROC Curve')\n",
    "plt.show()\n",
    "print('Training set areaUnderROC: ' + str(trainingSummary_Hinselmann.areaUnderROC))"
   ]
  },
  {
   "cell_type": "markdown",
   "metadata": {},
   "source": [
    "Ploting confusion matrix for LR model"
   ]
  },
  {
   "cell_type": "code",
   "execution_count": 202,
   "metadata": {},
   "outputs": [
    {
     "data": {
      "image/png": "[encoded data removed]",
      "text/plain": [
       "<Figure size 432x288 with 1 Axes>"
      ]
     },
     "metadata": {
      "needs_background": "light"
     },
     "output_type": "display_data"
    }
   ],
   "source": [
    "pr_Hinselmann= trainingSummary_Hinselmann.pr.toPandas()\n",
    "plt.plot(pr_Hinselmann['recall'],pr_Hinselmann['precision'])\n",
    "plt.ylabel('Precision')\n",
    "plt.xlabel('Recall')\n",
    "plt.show()\n"
   ]
  },
  {
   "cell_type": "markdown",
   "metadata": {},
   "source": [
    "Running the LR on test dataset now to validate the model."
   ]
  },
  {
   "cell_type": "code",
   "execution_count": 346,
   "metadata": {},
   "outputs": [
    {
     "name": "stdout",
     "output_type": "stream",
     "text": [
      "+----------+--------------------+----------+--------------------+\n",
      "|Hinselmann|       rawPrediction|prediction|         probability|\n",
      "+----------+--------------------+----------+--------------------+\n",
      "|         0|[3.97837618736850...|       0.0|[0.98162784735535...|\n",
      "|         0|[3.70134187928803...|       0.0|[0.97590455284013...|\n",
      "|         0|[3.12046767640080...|       0.0|[0.95772916562807...|\n",
      "|         0|[5.27748289102235...|       0.0|[0.99492066620385...|\n",
      "|         0|[5.64191735361694...|       0.0|[0.99646646730138...|\n",
      "|         0|[2.33648729710134...|       0.0|[0.91185415578342...|\n",
      "|         0|[3.18065084995136...|       0.0|[0.96009960650396...|\n",
      "|         0|[3.31308380727771...|       0.0|[0.96487494494912...|\n",
      "|         0|[2.67323010978345...|       0.0|[0.93542841143112...|\n",
      "|         0|[2.92845058802931...|       0.0|[0.94923506417394...|\n",
      "+----------+--------------------+----------+--------------------+\n",
      "only showing top 10 rows\n",
      "\n"
     ]
    }
   ],
   "source": [
    "predictions_Hinselmann = lrModel_Hinselmann.transform(test_Hinselmann)\n",
    "\n",
    "predictions_Hinselmann.select(\"Hinselmann\",\"rawPrediction\",\"prediction\",\"probability\").show(10)"
   ]
  },
  {
   "cell_type": "markdown",
   "metadata": {},
   "source": [
    "Apply binary classification on the Cervical DataTest"
   ]
  },
  {
   "cell_type": "code",
   "execution_count": 347,
   "metadata": {},
   "outputs": [
    {
     "name": "stdout",
     "output_type": "stream",
     "text": [
      "('Test Area Under ROC', 0.5890615660490139)\n"
     ]
    }
   ],
   "source": [
    "from pyspark.ml.evaluation import BinaryClassificationEvaluator\n",
    "\n",
    "evaluator_Hinselmann= BinaryClassificationEvaluator(labelCol='Hinselmann')\n",
    "print('Test Area Under ROC', evaluator_Hinselmann.evaluate(predictions_Hinselmann))"
   ]
  },
  {
   "cell_type": "markdown",
   "metadata": {},
   "source": [
    "applying decision tree model on data and calculating Area under the curve."
   ]
  },
  {
   "cell_type": "code",
   "execution_count": 349,
   "metadata": {},
   "outputs": [
    {
     "name": "stdout",
     "output_type": "stream",
     "text": [
      "+----------+-------------+----------+--------------------+\n",
      "|Hinselmann|rawPrediction|prediction|         probability|\n",
      "+----------+-------------+----------+--------------------+\n",
      "|         0| [572.0,15.0]|       0.0|[0.97444633730834...|\n",
      "|         0| [572.0,15.0]|       0.0|[0.97444633730834...|\n",
      "|         0| [572.0,15.0]|       0.0|[0.97444633730834...|\n",
      "|         0| [572.0,15.0]|       0.0|[0.97444633730834...|\n",
      "|         0| [572.0,15.0]|       0.0|[0.97444633730834...|\n",
      "|         0|    [0.0,2.0]|       1.0|           [0.0,1.0]|\n",
      "|         0| [572.0,15.0]|       0.0|[0.97444633730834...|\n",
      "|         0| [572.0,15.0]|       0.0|[0.97444633730834...|\n",
      "|         0| [572.0,15.0]|       0.0|[0.97444633730834...|\n",
      "|         0| [572.0,15.0]|       0.0|[0.97444633730834...|\n",
      "+----------+-------------+----------+--------------------+\n",
      "only showing top 10 rows\n",
      "\n"
     ]
    }
   ],
   "source": [
    "from pyspark.ml.classification import DecisionTreeClassifier\n",
    "dt_Hinselmann = DecisionTreeClassifier(featuresCol = 'features', labelCol = 'Hinselmann', maxDepth = 3)\n",
    "dtModel_Hinselmann = dt_Hinselmann.fit(train_Hinselmann)\n",
    "predictions_Hinselmann = dtModel_Hinselmann.transform(test_Hinselmann)\n",
    "predictions_Hinselmann.select(\"Hinselmann\",\"rawPrediction\",\"prediction\",\"probability\").show(10)"
   ]
  },
  {
   "cell_type": "code",
   "execution_count": 350,
   "metadata": {},
   "outputs": [
    {
     "name": "stdout",
     "output_type": "stream",
     "text": [
      "Test Area Under ROC: 0.510460251046\n"
     ]
    }
   ],
   "source": [
    "print(\"Test Area Under ROC: \" + str(evaluator_Hinselmann.evaluate(predictions_Hinselmann,{evaluator_Hinselmann.metricName: \"areaUnderROC\"})))"
   ]
  },
  {
   "cell_type": "markdown",
   "metadata": {},
   "source": [
    "Applying random forest algorithim."
   ]
  },
  {
   "cell_type": "code",
   "execution_count": 351,
   "metadata": {},
   "outputs": [
    {
     "name": "stdout",
     "output_type": "stream",
     "text": [
      "+----------+--------------------+----------+--------------------+\n",
      "|Hinselmann|       rawPrediction|prediction|         probability|\n",
      "+----------+--------------------+----------+--------------------+\n",
      "|         0|[19.6710870263384...|       0.0|[0.98355435131692...|\n",
      "|         0|[19.7379901993805...|       0.0|[0.98689950996902...|\n",
      "|         0|[19.9425858237247...|       0.0|[0.99712929118623...|\n",
      "|         0|[19.5760776439089...|       0.0|[0.97880388219544...|\n",
      "|         0|[19.2778790040519...|       0.0|[0.96389395020259...|\n",
      "|         0|[15.6299842753287...|       0.0|[0.78149921376643...|\n",
      "|         0|[19.4452187676176...|       0.0|[0.97226093838088...|\n",
      "|         0|[19.6138598394815...|       0.0|[0.98069299197407...|\n",
      "|         0|[19.0452187676176...|       0.0|[0.95226093838088...|\n",
      "|         0|[19.5815773370377...|       0.0|[0.97907886685188...|\n",
      "+----------+--------------------+----------+--------------------+\n",
      "only showing top 10 rows\n",
      "\n"
     ]
    }
   ],
   "source": [
    "from pyspark.ml.classification import RandomForestClassifier\n",
    "\n",
    "rf_Hinselmann = RandomForestClassifier(featuresCol = 'features', labelCol = 'Hinselmann')\n",
    "rfModel_Hinselmann = rf_Hinselmann.fit(train_Hinselmann)\n",
    "predictions_Hinselmann = rfModel_Hinselmann.transform(test_Hinselmann)\n",
    "predictions_Hinselmann.select('Hinselmann', 'rawPrediction', 'prediction', 'probability').show(10)"
   ]
  },
  {
   "cell_type": "code",
   "execution_count": 352,
   "metadata": {},
   "outputs": [
    {
     "name": "stdout",
     "output_type": "stream",
     "text": [
      "Test Area Under ROC: 0.49387328153\n"
     ]
    }
   ],
   "source": [
    "print(\"Test Area Under ROC: \" + str(evaluator_Hinselmann.evaluate(predictions_Hinselmann, {evaluator_Hinselmann.metricName: \"areaUnderROC\"})))"
   ]
  },
  {
   "cell_type": "markdown",
   "metadata": {},
   "source": [
    "Since none of the above model are performing well , we will try Gradient boost Classifier.."
   ]
  },
  {
   "cell_type": "code",
   "execution_count": 356,
   "metadata": {},
   "outputs": [
    {
     "name": "stdout",
     "output_type": "stream",
     "text": [
      "+----------+--------------------+----------+--------------------+\n",
      "|Hinselmann|       rawPrediction|prediction|         probability|\n",
      "+----------+--------------------+----------+--------------------+\n",
      "|         0|[1.19793543986723...|       0.0|[0.91651189503327...|\n",
      "|         0|[0.56959904578380...|       0.0|[0.75753237722869...|\n",
      "|         0|[1.31725307871478...|       0.0|[0.93304959018495...|\n",
      "|         0|[1.29062878874648...|       0.0|[0.92964556502599...|\n",
      "|         0|[1.26772871926133...|       0.0|[0.92659043695630...|\n",
      "|         0|[-2.3771607763543...|       1.0|[0.00854081324715...|\n",
      "|         0|[1.29427843432990...|       0.0|[0.93012147826230...|\n",
      "|         0|[1.30662883279308...|       0.0|[0.93170996189357...|\n",
      "|         0|[1.29427843432990...|       0.0|[0.93012147826230...|\n",
      "|         0|[1.32156282591188...|       0.0|[0.93358602754868...|\n",
      "+----------+--------------------+----------+--------------------+\n",
      "only showing top 10 rows\n",
      "\n"
     ]
    }
   ],
   "source": [
    "from pyspark.ml.classification import GBTClassifier\n",
    "\n",
    "gbt_Hinselmann = GBTClassifier(maxIter=10).setLabelCol(\"Hinselmann\").setFeaturesCol(\"features\")\n",
    "gbtModel_Hinselmann = gbt_Hinselmann.fit(train_Hinselmann)\n",
    "predictions_Hinselmann = gbtModel_Hinselmann.transform(test_Hinselmann)\n",
    "predictions_Hinselmann.select('Hinselmann','rawPrediction', 'prediction', 'probability').show(10)"
   ]
  },
  {
   "cell_type": "code",
   "execution_count": 357,
   "metadata": {},
   "outputs": [
    {
     "name": "stdout",
     "output_type": "stream",
     "text": [
      "Test Area Under ROC: 0.593245666467\n"
     ]
    }
   ],
   "source": [
    "\n",
    "print(\"Test Area Under ROC: \" + str(evaluator_Hinselmann.evaluate(predictions_Hinselmann, {evaluator_Hinselmann.metricName: \"areaUnderROC\"})))"
   ]
  },
  {
   "cell_type": "markdown",
   "metadata": {},
   "source": [
    "Since none of the algorithm is performing well , its time to tranform unblanced data to balaned dataset using SMOTE.\n",
    "Create a dataframne for all the feature and label_df for predictor."
   ]
  },
  {
   "cell_type": "code",
   "execution_count": 358,
   "metadata": {},
   "outputs": [
    {
     "name": "stdout",
     "output_type": "stream",
     "text": [
      "Row(Number of sexual partners=4.0, First sexual intercourse=15.0, Num of pregnancies=1.0, Smokes=0.0, Smokes (years)=0.0, Smokes (packs/year)=0.0, Hormonal Contraceptives=0.0, Hormonal Contraceptives (years)=0.0, IUD=0.0, IUD (years)=0.0, STDs=0.0, STDs (number)=0.0, STDs:condylomatosis=0.0, STDs:cervical condylomatosis=0.0, STDs:vaginal condylomatosis=0.0, STDs:vulvo-perineal condylomatosis=0.0, STDs:syphilis=0.0, STDs:pelvic inflammatory disease=0.0, STDs:genital herpes=0.0, STDs:molluscum contagiosum=0.0, STDs:AIDS=0.0, STDs:HIV=0.0, STDs:Hepatitis B=0.0, STDs:HPV=0.0, STDs: Number of diagnosis=0, Dx:Cancer=0, Dx:CIN=0, Dx:HPV=0, Dx=0, Age=18)\n"
     ]
    }
   ],
   "source": [
    "features_df=cervical_df.select([\"Number of sexual partners\",\"First sexual intercourse\", \"Num of pregnancies\", \n",
    "                                \"Smokes\",\"Smokes (years)\",\"Smokes (packs/year)\",\"Hormonal Contraceptives\", \n",
    "                                \"Hormonal Contraceptives (years)\",\"IUD\",\"IUD (years)\",\"STDs\",\"STDs (number)\",\n",
    "                                \"STDs:condylomatosis\" , \"STDs:cervical condylomatosis\",\"STDs:vaginal condylomatosis\",\n",
    "                                \"STDs:vulvo-perineal condylomatosis\",\"STDs:syphilis\",\"STDs:pelvic inflammatory disease\",\n",
    "                                \"STDs:genital herpes\", \"STDs:molluscum contagiosum\",\"STDs:AIDS\",\"STDs:HIV\" ,\n",
    "                                \"STDs:Hepatitis B\",\"STDs:HPV\",\"STDs: Number of diagnosis\",\"Dx:Cancer\",\"Dx:CIN\",\n",
    "                                \"Dx:HPV\",\"Dx\",\"Age\"]).collect()\n",
    "label_df=cervical_df.select(\"Hinselmann\").collect()\n",
    "print features_df[0]\n",
    "#features_df.show(1)\n"
   ]
  },
  {
   "cell_type": "code",
   "execution_count": 359,
   "metadata": {},
   "outputs": [],
   "source": [
    "#let's split the predictor and dependent variables in training and test datasets:\n",
    "\n",
    "features_df_train, features_df_test, label_df_train, label_df_test = train_test_split(features_df, label_df, \n",
    "                                                                                      test_size=0.1, random_state=0)"
   ]
  },
  {
   "cell_type": "markdown",
   "metadata": {},
   "source": [
    "Splitting training dataset further to train and validation data."
   ]
  },
  {
   "cell_type": "code",
   "execution_count": 360,
   "metadata": {},
   "outputs": [],
   "source": [
    "features_train, features_val, label_train, label_val = train_test_split(features_df_train, \n",
    "                                                                        label_df_train,test_size = 0.1,random_state=0)"
   ]
  },
  {
   "cell_type": "markdown",
   "metadata": {},
   "source": [
    "apply Smote funtion on data to resample the data."
   ]
  },
  {
   "cell_type": "code",
   "execution_count": 361,
   "metadata": {},
   "outputs": [],
   "source": [
    "sm = SMOTE(random_state=12, ratio = 'auto', kind = 'regular')"
   ]
  },
  {
   "cell_type": "code",
   "execution_count": 362,
   "metadata": {
    "scrolled": true
   },
   "outputs": [
    {
     "name": "stderr",
     "output_type": "stream",
     "text": [
      "/usr/lib64/python2.7/site-packages/sklearn/externals/joblib/parallel.py:268: DeprecationWarning: check_pickle is deprecated in joblib 0.12 and will be removed in 0.13\n",
      "  ' removed in 0.13', DeprecationWarning)\n"
     ]
    }
   ],
   "source": [
    "features_train_res, label_train_res = sm.fit_sample(features_train, label_train)\n"
   ]
  },
  {
   "cell_type": "markdown",
   "metadata": {},
   "source": [
    "After resampling using SMOTE now the Dataset is blanced and ready to use"
   ]
  },
  {
   "cell_type": "code",
   "execution_count": 368,
   "metadata": {},
   "outputs": [
    {
     "name": "stdout",
     "output_type": "stream",
     "text": [
      "Resampled dataset shape Counter({0: 664, 1: 664})\n"
     ]
    }
   ],
   "source": [
    "print('Resampled dataset shape {}'.format(Counter(label_train_res)))"
   ]
  },
  {
   "cell_type": "markdown",
   "metadata": {},
   "source": [
    "Applying logistic regression and calculate accuracy."
   ]
  },
  {
   "cell_type": "code",
   "execution_count": 370,
   "metadata": {},
   "outputs": [
    {
     "data": {
      "text/plain": [
       "LogisticRegression(C=1.0, class_weight=None, dual=False, fit_intercept=True,\n",
       "          intercept_scaling=1, max_iter=100, multi_class='warn',\n",
       "          n_jobs=None, penalty='l2', random_state=0, solver='warn',\n",
       "          tol=0.0001, verbose=0, warm_start=False)"
      ]
     },
     "execution_count": 370,
     "metadata": {},
     "output_type": "execute_result"
    }
   ],
   "source": [
    "sm_lr = LogisticRegression(random_state=0)\n",
    "\n",
    "sm_lr.fit(features_train_res, label_train_res)"
   ]
  },
  {
   "cell_type": "code",
   "execution_count": 371,
   "metadata": {},
   "outputs": [
    {
     "name": "stdout",
     "output_type": "stream",
     "text": [
      "('Accuracy: ', 0.6666666666666666)\n",
      "('Recall Score: ', 0.3333333333333333)\n"
     ]
    }
   ],
   "source": [
    "print('Accuracy: ', sm_lr.score(features_val, label_val))\n",
    "print('Recall Score: ', recall_score(label_val, sm_lr.predict(features_val)))"
   ]
  },
  {
   "cell_type": "markdown",
   "metadata": {},
   "source": [
    "Since LR did not perform well , we can try RandomForrest to see if we can improve performace of the data set"
   ]
  },
  {
   "cell_type": "code",
   "execution_count": 372,
   "metadata": {},
   "outputs": [
    {
     "data": {
      "text/plain": [
       "RandomForestClassifier(bootstrap=True, class_weight=None, criterion='gini',\n",
       "            max_depth=None, max_features='auto', max_leaf_nodes=None,\n",
       "            min_impurity_decrease=0.0, min_impurity_split=None,\n",
       "            min_samples_leaf=1, min_samples_split=2,\n",
       "            min_weight_fraction_leaf=0.0, n_estimators=10, n_jobs=None,\n",
       "            oob_score=False, random_state=12, verbose=0, warm_start=False)"
      ]
     },
     "execution_count": 372,
     "metadata": {},
     "output_type": "execute_result"
    }
   ],
   "source": [
    "#random forrest\n",
    "\n",
    "sm_rf = RandomForestClassifier(random_state=12)\n",
    "\n",
    "sm_rf.fit(features_train_res, label_train_res)"
   ]
  },
  {
   "cell_type": "code",
   "execution_count": 373,
   "metadata": {},
   "outputs": [
    {
     "name": "stdout",
     "output_type": "stream",
     "text": [
      "('Accuracy: ', 0.9487179487179487)\n",
      "('Recall Score: ', 0.0)\n"
     ]
    }
   ],
   "source": [
    "#validation results\n",
    "\n",
    "print('Accuracy: ', sm_rf.score(features_val, label_val))\n",
    "print('Recall Score: ', recall_score(label_val, sm_rf.predict(features_val)))"
   ]
  },
  {
   "cell_type": "code",
   "execution_count": 374,
   "metadata": {},
   "outputs": [
    {
     "name": "stdout",
     "output_type": "stream",
     "text": [
      "('Accuracy: ', 0.9651162790697675)\n",
      "('Recall Score: ', 0.0)\n"
     ]
    }
   ],
   "source": [
    "#Test results\n",
    "print('Accuracy: ', sm_rf.score(features_df_test, label_df_test))\n",
    "print('Recall Score: ', recall_score(label_df_test, sm_rf.predict(features_df_test)))\n"
   ]
  },
  {
   "cell_type": "markdown",
   "metadata": {},
   "source": [
    "Determining most important feature in the dataset"
   ]
  },
  {
   "cell_type": "code",
   "execution_count": 375,
   "metadata": {},
   "outputs": [
    {
     "name": "stdout",
     "output_type": "stream",
     "text": [
      "                                 index  importance\n",
      "0                   Num of pregnancies    0.198162\n",
      "1            Number of sexual partners    0.144027\n",
      "2      Hormonal Contraceptives (years)    0.092247\n",
      "3             First sexual intercourse    0.089323\n",
      "4                                  Age    0.088357\n",
      "5              Hormonal Contraceptives    0.073577\n",
      "6                                  IUD    0.048962\n",
      "7                               Dx:HPV    0.042715\n",
      "8                          IUD (years)    0.034733\n",
      "9                        STDs (number)    0.030689\n",
      "10                           Dx:Cancer    0.026437\n",
      "11                      Smokes (years)    0.022609\n",
      "12                            STDs:HIV    0.021215\n",
      "13                                STDs    0.018884\n",
      "14                              Smokes    0.018434\n",
      "15                 Smokes (packs/year)    0.016706\n",
      "16           STDs: Number of diagnosis    0.011253\n",
      "17                 STDs:condylomatosis    0.007073\n",
      "18                       STDs:syphilis    0.006052\n",
      "19  STDs:vulvo-perineal condylomatosis    0.004435\n",
      "20                                  Dx    0.002576\n",
      "21                              Dx:CIN    0.000608\n",
      "22                            STDs:HPV    0.000562\n",
      "23         STDs:vaginal condylomatosis    0.000363\n",
      "24                           STDs:AIDS    0.000000\n",
      "25          STDs:molluscum contagiosum    0.000000\n",
      "26                    STDs:Hepatitis B    0.000000\n",
      "27                 STDs:genital herpes    0.000000\n",
      "28        STDs:cervical condylomatosis    0.000000\n",
      "29    STDs:pelvic inflammatory disease    0.000000\n"
     ]
    }
   ],
   "source": [
    "features_df=spark.createDataFrame(features_train)\n",
    "import pandas as pd\n",
    "feature_importances = pd.DataFrame(sm_rf.feature_importances_,\n",
    "                                   index=features_df.columns,\n",
    "                                    columns=['importance']).sort_values('importance',ascending=False)\n",
    "feature_importances.reset_index(inplace=True)\n",
    "print(feature_importances)"
   ]
  },
  {
   "cell_type": "code",
   "execution_count": 376,
   "metadata": {},
   "outputs": [
    {
     "data": {
      "image/png": "[encoded data removed]",
      "text/plain": [
       "<Figure size 432x288 with 1 Axes>"
      ]
     },
     "metadata": {
      "needs_background": "light"
     },
     "output_type": "display_data"
    }
   ],
   "source": [
    "feature_importances=feature_importances.query('importance>0.02')\n",
    "\n",
    "ax=feature_importances.plot.barh(x='index', y='importance')\n",
    "ax.invert_yaxis() \n"
   ]
  }
 ],
 "metadata": {
  "kernelspec": {
   "display_name": "Python 2",
   "language": "python",
   "name": "python2"
  },
  "language_info": {
   "codemirror_mode": {
    "name": "ipython",
    "version": 2
   },
   "file_extension": ".py",
   "mimetype": "text/x-python",
   "name": "python",
   "nbconvert_exporter": "python",
   "pygments_lexer": "ipython2",
   "version": "2.7.5"
  }
 },
 "nbformat": 4,
 "nbformat_minor": 2
}
